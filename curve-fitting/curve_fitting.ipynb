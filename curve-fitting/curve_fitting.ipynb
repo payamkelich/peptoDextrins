{
  "cells": [
    {
      "cell_type": "markdown",
      "metadata": {
        "id": "UZsPSJjnKF7p"
      },
      "source": [
        "To fit the data to the specified equations, `fit_data` is a function with three arguments:\n",
        "\n",
        "1. `filename`: Specifies the CSV file containing the data for fitting.\n",
        "2. `use_log`: When set to `True`, the function fits the data on a logarithmic scale. By default, it is set to `False`, meaning the data will be fitted using its original scale.\n",
        "3. `fit_eqs`: Determines which equation the data should be fitted to. The default option is 'both', but you can also select 'eq1' or 'eq2'.\n",
        "\n",
        "The equations are as follows:\n",
        "\n",
        "\\\n",
        "\\begin{aligned}\n",
        "&\\frac{F}{F_0}=\\frac{1+F_1 / F_0 k_1\\left[CD_0\\right]+F_2 / F_0 k_1 k_2\\left[CD_0\\right]^2}{\\left(1+k_1\\left[C D_0\\right]+k_1 k_2\\left[C D_0\\right]^2\\right)}\\;\\text{(eq.1)}\n",
        "\\\\\\\\\n",
        "&\\frac{F}{F_0}=\\frac{1+F_1 / F_0 k_1\\left[CD_0\\right]}{\\left(1+k_1\\left[CD_0\\right]\\right)}\\;\\text{(eq.2)}\n",
        "\\end{aligned}\n"
      ]
    },
    {
      "cell_type": "code",
      "execution_count": null,
      "metadata": {
        "id": "Rv97txu8ciNP"
      },
      "outputs": [],
      "source": []
    },
    {
      "cell_type": "markdown",
      "metadata": {
        "id": "p2qElLnfKdKy"
      },
      "source": [
        "## 0. Uploading the data"
      ]
    },
    {
      "cell_type": "code",
      "execution_count": null,
      "metadata": {
        "colab": {
          "background_save": true,
          "base_uri": "https://localhost:8080/",
          "height": 38
        },
        "id": "RhGQRiT1ts_2",
        "outputId": "2441f397-851e-4fac-db15-6655eb5d8f00"
      },
      "outputs": [
        {
          "data": {
            "text/html": [
              "\n",
              "     <input type=\"file\" id=\"files-f0d68ead-3a30-47c9-8700-005486af0a2e\" name=\"files[]\" multiple disabled\n",
              "        style=\"border:none\" />\n",
              "     <output id=\"result-f0d68ead-3a30-47c9-8700-005486af0a2e\">\n",
              "      Upload widget is only available when the cell has been executed in the\n",
              "      current browser session. Please rerun this cell to enable.\n",
              "      </output>\n",
              "      <script>// Copyright 2017 Google LLC\n",
              "//\n",
              "// Licensed under the Apache License, Version 2.0 (the \"License\");\n",
              "// you may not use this file except in compliance with the License.\n",
              "// You may obtain a copy of the License at\n",
              "//\n",
              "//      http://www.apache.org/licenses/LICENSE-2.0\n",
              "//\n",
              "// Unless required by applicable law or agreed to in writing, software\n",
              "// distributed under the License is distributed on an \"AS IS\" BASIS,\n",
              "// WITHOUT WARRANTIES OR CONDITIONS OF ANY KIND, either express or implied.\n",
              "// See the License for the specific language governing permissions and\n",
              "// limitations under the License.\n",
              "\n",
              "/**\n",
              " * @fileoverview Helpers for google.colab Python module.\n",
              " */\n",
              "(function(scope) {\n",
              "function span(text, styleAttributes = {}) {\n",
              "  const element = document.createElement('span');\n",
              "  element.textContent = text;\n",
              "  for (const key of Object.keys(styleAttributes)) {\n",
              "    element.style[key] = styleAttributes[key];\n",
              "  }\n",
              "  return element;\n",
              "}\n",
              "\n",
              "// Max number of bytes which will be uploaded at a time.\n",
              "const MAX_PAYLOAD_SIZE = 100 * 1024;\n",
              "\n",
              "function _uploadFiles(inputId, outputId) {\n",
              "  const steps = uploadFilesStep(inputId, outputId);\n",
              "  const outputElement = document.getElementById(outputId);\n",
              "  // Cache steps on the outputElement to make it available for the next call\n",
              "  // to uploadFilesContinue from Python.\n",
              "  outputElement.steps = steps;\n",
              "\n",
              "  return _uploadFilesContinue(outputId);\n",
              "}\n",
              "\n",
              "// This is roughly an async generator (not supported in the browser yet),\n",
              "// where there are multiple asynchronous steps and the Python side is going\n",
              "// to poll for completion of each step.\n",
              "// This uses a Promise to block the python side on completion of each step,\n",
              "// then passes the result of the previous step as the input to the next step.\n",
              "function _uploadFilesContinue(outputId) {\n",
              "  const outputElement = document.getElementById(outputId);\n",
              "  const steps = outputElement.steps;\n",
              "\n",
              "  const next = steps.next(outputElement.lastPromiseValue);\n",
              "  return Promise.resolve(next.value.promise).then((value) => {\n",
              "    // Cache the last promise value to make it available to the next\n",
              "    // step of the generator.\n",
              "    outputElement.lastPromiseValue = value;\n",
              "    return next.value.response;\n",
              "  });\n",
              "}\n",
              "\n",
              "/**\n",
              " * Generator function which is called between each async step of the upload\n",
              " * process.\n",
              " * @param {string} inputId Element ID of the input file picker element.\n",
              " * @param {string} outputId Element ID of the output display.\n",
              " * @return {!Iterable<!Object>} Iterable of next steps.\n",
              " */\n",
              "function* uploadFilesStep(inputId, outputId) {\n",
              "  const inputElement = document.getElementById(inputId);\n",
              "  inputElement.disabled = false;\n",
              "\n",
              "  const outputElement = document.getElementById(outputId);\n",
              "  outputElement.innerHTML = '';\n",
              "\n",
              "  const pickedPromise = new Promise((resolve) => {\n",
              "    inputElement.addEventListener('change', (e) => {\n",
              "      resolve(e.target.files);\n",
              "    });\n",
              "  });\n",
              "\n",
              "  const cancel = document.createElement('button');\n",
              "  inputElement.parentElement.appendChild(cancel);\n",
              "  cancel.textContent = 'Cancel upload';\n",
              "  const cancelPromise = new Promise((resolve) => {\n",
              "    cancel.onclick = () => {\n",
              "      resolve(null);\n",
              "    };\n",
              "  });\n",
              "\n",
              "  // Wait for the user to pick the files.\n",
              "  const files = yield {\n",
              "    promise: Promise.race([pickedPromise, cancelPromise]),\n",
              "    response: {\n",
              "      action: 'starting',\n",
              "    }\n",
              "  };\n",
              "\n",
              "  cancel.remove();\n",
              "\n",
              "  // Disable the input element since further picks are not allowed.\n",
              "  inputElement.disabled = true;\n",
              "\n",
              "  if (!files) {\n",
              "    return {\n",
              "      response: {\n",
              "        action: 'complete',\n",
              "      }\n",
              "    };\n",
              "  }\n",
              "\n",
              "  for (const file of files) {\n",
              "    const li = document.createElement('li');\n",
              "    li.append(span(file.name, {fontWeight: 'bold'}));\n",
              "    li.append(span(\n",
              "        `(${file.type || 'n/a'}) - ${file.size} bytes, ` +\n",
              "        `last modified: ${\n",
              "            file.lastModifiedDate ? file.lastModifiedDate.toLocaleDateString() :\n",
              "                                    'n/a'} - `));\n",
              "    const percent = span('0% done');\n",
              "    li.appendChild(percent);\n",
              "\n",
              "    outputElement.appendChild(li);\n",
              "\n",
              "    const fileDataPromise = new Promise((resolve) => {\n",
              "      const reader = new FileReader();\n",
              "      reader.onload = (e) => {\n",
              "        resolve(e.target.result);\n",
              "      };\n",
              "      reader.readAsArrayBuffer(file);\n",
              "    });\n",
              "    // Wait for the data to be ready.\n",
              "    let fileData = yield {\n",
              "      promise: fileDataPromise,\n",
              "      response: {\n",
              "        action: 'continue',\n",
              "      }\n",
              "    };\n",
              "\n",
              "    // Use a chunked sending to avoid message size limits. See b/62115660.\n",
              "    let position = 0;\n",
              "    do {\n",
              "      const length = Math.min(fileData.byteLength - position, MAX_PAYLOAD_SIZE);\n",
              "      const chunk = new Uint8Array(fileData, position, length);\n",
              "      position += length;\n",
              "\n",
              "      const base64 = btoa(String.fromCharCode.apply(null, chunk));\n",
              "      yield {\n",
              "        response: {\n",
              "          action: 'append',\n",
              "          file: file.name,\n",
              "          data: base64,\n",
              "        },\n",
              "      };\n",
              "\n",
              "      let percentDone = fileData.byteLength === 0 ?\n",
              "          100 :\n",
              "          Math.round((position / fileData.byteLength) * 100);\n",
              "      percent.textContent = `${percentDone}% done`;\n",
              "\n",
              "    } while (position < fileData.byteLength);\n",
              "  }\n",
              "\n",
              "  // All done.\n",
              "  yield {\n",
              "    response: {\n",
              "      action: 'complete',\n",
              "    }\n",
              "  };\n",
              "}\n",
              "\n",
              "scope.google = scope.google || {};\n",
              "scope.google.colab = scope.google.colab || {};\n",
              "scope.google.colab._files = {\n",
              "  _uploadFiles,\n",
              "  _uploadFilesContinue,\n",
              "};\n",
              "})(self);\n",
              "</script> "
            ],
            "text/plain": [
              "<IPython.core.display.HTML object>"
            ]
          },
          "metadata": {},
          "output_type": "display_data"
        }
      ],
      "source": [
        "from google.colab import files\n",
        "uploaded = files.upload()"
      ]
    },
    {
      "cell_type": "markdown",
      "metadata": {
        "id": "75zNmCGtKsle"
      },
      "source": [
        "## 1. Importing python libraries"
      ]
    },
    {
      "cell_type": "code",
      "execution_count": null,
      "metadata": {
        "id": "0a2wYap4Kopa"
      },
      "outputs": [],
      "source": [
        "import os\n",
        "import numpy as np\n",
        "import pandas as pd\n",
        "import matplotlib.pyplot as plt\n",
        "from scipy.optimize import curve_fit\n",
        "from sklearn.metrics import r2_score"
      ]
    },
    {
      "cell_type": "markdown",
      "metadata": {
        "id": "6YcIHVatK1Wr"
      },
      "source": [
        "## 2. fit_data, eq1 and eq2 functions"
      ]
    },
    {
      "cell_type": "code",
      "execution_count": null,
      "metadata": {
        "id": "3xMcOB7CsEXv"
      },
      "outputs": [],
      "source": [
        "def fit_data(filename, use_log=False, fit_eqs='both'):\n",
        "    base_filename = filename.replace(\".csv\", \"\")\n",
        "    log_str = \"log\" if use_log else \"no_log\"\n",
        "    filename_suffix = f\"{base_filename}_{log_str}_eq_{fit_eqs}\"\n",
        "\n",
        "    if not os.path.exists('plots'):\n",
        "        os.mkdir('plots')\n",
        "    if not os.path.exists('results'):\n",
        "        os.mkdir('results')\n",
        "\n",
        "    data = pd.read_csv(filename)\n",
        "    CD0 = data[\"CD0\"].values\n",
        "\n",
        "    if use_log:\n",
        "        CD0 = np.where(CD0 != 0, np.log10(CD0), 0)\n",
        "\n",
        "    FF0_cols = [col for col in data.columns if \"F/F0\" in col]\n",
        "    colors = ['red', 'blue', 'green', 'orange','peru']\n",
        "\n",
        "    plt.figure(figsize=(10, 6))\n",
        "\n",
        "    initial_guess1 = [1, 1, 1, 1]\n",
        "    initial_guess2 = [1, 1]\n",
        "\n",
        "    results_df_eq1 = pd.DataFrame()\n",
        "    results_df_eq2 = pd.DataFrame()\n",
        "\n",
        "    r2_scores_eq1 = []\n",
        "    r2_scores_eq2 = []\n",
        "\n",
        "    param_mapping_eq1 = {0: 'F1', 1: 'F2', 2: 'k1', 3: 'k2'}\n",
        "    param_mapping_eq2 = {0: 'F1', 1: 'k1'}\n",
        "\n",
        "    for idx, FF0_col in enumerate(FF0_cols):\n",
        "        F_over_F0 = data[FF0_col].values\n",
        "        if use_log:\n",
        "            F_over_F0 = np.where(F_over_F0 != 0, np.log10(F_over_F0), 0)\n",
        "\n",
        "        if fit_eqs == 'both' or fit_eqs == 'eq1':\n",
        "            params1, _ = curve_fit(eq1, CD0, F_over_F0, p0=initial_guess1, maxfev=10000)\n",
        "\n",
        "            for i, param in enumerate(params1):\n",
        "                results_df_eq1.at[param_mapping_eq1[i], f'Run_{idx+1}'] = param\n",
        "            y_pred1 = eq1(CD0, *params1)\n",
        "            if use_log:\n",
        "                r2_eq1 = r2_score(F_over_F0[2:], y_pred1[2:])\n",
        "            else:\n",
        "                r2_eq1 = r2_score(F_over_F0, y_pred1)\n",
        "            r2_scores_eq1.append(r2_eq1)\n",
        "            plt.plot(CD0, y_pred1, label=f'Fit Eq 1 ({FF0_col})', linestyle='dashed', color=colors[idx])\n",
        "\n",
        "        if fit_eqs == 'both' or fit_eqs == 'eq2':\n",
        "            params2, _ = curve_fit(eq2, CD0, F_over_F0, p0=initial_guess2, maxfev=10000)\n",
        "            print(params2)\n",
        "            for i, param in enumerate(params2):\n",
        "                results_df_eq2.at[param_mapping_eq2[i], f'Run_{idx+1}'] = param\n",
        "            y_pred2 = eq2(CD0, *params2)\n",
        "            if use_log:\n",
        "                r2_eq2 = r2_score(F_over_F0[2:], y_pred2[2:])\n",
        "            else:\n",
        "                r2_eq2 = r2_score(F_over_F0, y_pred2)\n",
        "            r2_scores_eq2.append(r2_eq2)\n",
        "            plt.plot(CD0, y_pred2, label=f'Fit Eq 2 ({FF0_col})', linestyle='dotted', color=colors[idx])\n",
        "\n",
        "        plt.scatter(CD0, F_over_F0, color=colors[idx], label=f'Data ({FF0_col})')\n",
        "\n",
        "    plt.title(base_filename)\n",
        "    plt.xlabel(r'$CD_0$ (log)' if use_log else r'$CD_0$')\n",
        "    plt.ylabel(r'$F/F_0$ (log)' if use_log else r'$F/F_0$')\n",
        "    plt.legend()\n",
        "    plt.savefig(os.path.join('plots', filename_suffix + \"_plot.png\"))\n",
        "    plt.show()\n",
        "\n",
        "    if r2_scores_eq1:\n",
        "        r2_df_eq1 = pd.DataFrame({'R^2': r2_scores_eq1}).T\n",
        "        r2_df_eq1.columns = [f'Run_{i+1}' for i in range(len(FF0_cols))]\n",
        "        r2_df_eq1.index = ['R^2']\n",
        "        results_df_eq1 = pd.concat([results_df_eq1, r2_df_eq1])\n",
        "    if r2_scores_eq2:\n",
        "        r2_df_eq2 = pd.DataFrame({'R^2': r2_scores_eq2}).T\n",
        "        r2_df_eq2.columns = [f'Run_{i+1}' for i in range(len(FF0_cols))]\n",
        "        r2_df_eq2.index = ['R^2']\n",
        "        results_df_eq2 = pd.concat([results_df_eq2, r2_df_eq2])\n",
        "\n",
        "    combined_results = pd.concat([results_df_eq1, results_df_eq2], keys=['Eq1', 'Eq2'])\n",
        "    combined_results['Average'] = combined_results.mean(axis=1)\n",
        "    combined_results.reset_index(inplace=True)\n",
        "    combined_results.rename(columns={'level_0': 'Equation', 'level_1': 'Parameter'}, inplace=True)\n",
        "\n",
        "    combined_results.to_csv(os.path.join('results', filename_suffix + \"_results.csv\"), index=False)\n",
        "    return combined_results\n",
        "\n",
        "def eq1(CD0, F1, F2, k1, k2):\n",
        "    F0 = 1.0\n",
        "    num = 1 + F1/F0*k1*CD0 + F2/F0*k1*k2*CD0**2\n",
        "    den = 1 + k1*CD0 + k1*k2*CD0**2\n",
        "    return num/den\n",
        "\n",
        "def eq2(CD0, F1, k1):\n",
        "    F0 = 1.0\n",
        "    num = 1 + F1/F0*k1*CD0\n",
        "    den = 1 + k1*CD0\n",
        "    return num/den"
      ]
    },
    {
      "cell_type": "markdown",
      "metadata": {
        "id": "gZCUIKfOM8Gq"
      },
      "source": [
        "## Fitting the equation"
      ]
    },
    {
      "cell_type": "code",
      "execution_count": null,
      "metadata": {
        "id": "i0g7TM7KwhAO"
      },
      "outputs": [],
      "source": [
        "fit_data('ALA 14 - Captisol 275.csv',use_log=False, fit_eqs='eq2')"
      ]
    },
    {
      "cell_type": "code",
      "execution_count": null,
      "metadata": {
        "id": "DnsNO6SWpvhZ"
      },
      "outputs": [],
      "source": [
        "\n",
        "!ls"
      ]
    },
    {
      "cell_type": "code",
      "execution_count": null,
      "metadata": {
        "id": "0RMW68Xoilfc"
      },
      "outputs": [],
      "source": [
        "!ls"
      ]
    },
    {
      "cell_type": "code",
      "execution_count": null,
      "metadata": {
        "id": "ZymqP-2E-UjB"
      },
      "outputs": [],
      "source": []
    }
  ],
  "metadata": {
    "colab": {
      "provenance": []
    },
    "kernelspec": {
      "display_name": "Python 3",
      "name": "python3"
    },
    "language_info": {
      "name": "python"
    }
  },
  "nbformat": 4,
  "nbformat_minor": 0
}